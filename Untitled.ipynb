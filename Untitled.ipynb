{
 "cells": [
  {
   "cell_type": "code",
   "execution_count": 1,
   "metadata": {},
   "outputs": [],
   "source": [
    "import ofdm_util as util\n",
    "import numpy as np\n",
    "import torch\n",
    "import torch.nn as nn\n",
    "import torch.nn.functional as F\n",
    "import torch.optim as optim\n",
    "import torch.utils.data as Data\n",
    "from matplotlib import pyplot as plt\n",
    "import scipy.io as scio\n",
    "from torchvision import datasets, transforms\n",
    "from torch.autograd import Variable"
   ]
  },
  {
   "cell_type": "code",
   "execution_count": 2,
   "metadata": {},
   "outputs": [],
   "source": [
    "S = 5000\n",
    "N = 256\n",
    "mu = 4\n",
    "BATCH_SIZE = 100\n",
    "Epoch = 100\n",
    "vS = 500"
   ]
  },
  {
   "cell_type": "code",
   "execution_count": 3,
   "metadata": {},
   "outputs": [],
   "source": [
    "t = np.load('./data/train.npz')['data']\n",
    "train = t.reshape(S * N, mu)\n",
    "\n",
    "x = util.Mapping(train)\n",
    "x = np.concatenate([np.expand_dims(x.real, 1), np.expand_dims(x.imag, 1)], axis=1).reshape(S,N,2)\n",
    "trainset = torch.tensor(x[vS:, :], dtype=torch.float)\n",
    "\n",
    "torch_dataset = Data.TensorDataset(trainset,torch.zeros(trainset.shape))\n",
    "loader = Data.DataLoader(\n",
    "    dataset=torch_dataset,\n",
    "    batch_size=BATCH_SIZE,\n",
    "    shuffle=True,\n",
    ")\n",
    "\n",
    "valset = torch.tensor(x[:vS, :], dtype=torch.float)\n",
    "val_dataset = Data.TensorDataset(valset,torch.zeros(valset.shape))\n",
    "valloader = Data.DataLoader(\n",
    "    dataset=val_dataset,\n",
    "    batch_size=BATCH_SIZE,\n",
    "    shuffle=True,\n",
    ")"
   ]
  },
  {
   "cell_type": "code",
   "execution_count": 4,
   "metadata": {},
   "outputs": [],
   "source": [
    "class Autoencoder(nn.Module):\n",
    "    def __init__(self):\n",
    "        super(Autoencoder, self).__init__()\n",
    "        self.encoder = nn.Sequential(\n",
    "            nn.Linear(N*2, N*2),\n",
    "            nn.BatchNorm1d(N*2),\n",
    "            nn.ReLU(inplace=True),\n",
    "\n",
    "            nn.Linear(N*2, N*2),\n",
    "            nn.BatchNorm1d(N*2),\n",
    "            nn.ReLU(inplace=True),\n",
    "\n",
    "            nn.Linear(N*2, N*2))\n",
    "        self.decoder = nn.Sequential(\n",
    "            nn.Linear(N*2, N*2),\n",
    "            nn.BatchNorm1d(N*2),\n",
    "            nn.ReLU(inplace=True),\n",
    "\n",
    "            nn.Linear(N*2, N*2),\n",
    "            nn.BatchNorm1d(N*2),\n",
    "            nn.ReLU(inplace=True),\n",
    "\n",
    "            nn.Linear(N*2, N*2))\n",
    "    def forward(self, x):\n",
    "        encode = self.encoder(x.view(-1,N*2)).reshape(-1,N,2)\n",
    "        decode = self.decoder(encode.view(-1,N*2)).reshape(-1,N,2)\n",
    "        return encode, decode"
   ]
  },
  {
   "cell_type": "code",
   "execution_count": 5,
   "metadata": {},
   "outputs": [
    {
     "data": {
      "text/plain": [
       "Autoencoder(\n",
       "  (encoder): Sequential(\n",
       "    (0): Linear(in_features=512, out_features=512, bias=True)\n",
       "    (1): BatchNorm1d(512, eps=1e-05, momentum=0.1, affine=True, track_running_stats=True)\n",
       "    (2): ReLU(inplace=True)\n",
       "    (3): Linear(in_features=512, out_features=512, bias=True)\n",
       "    (4): BatchNorm1d(512, eps=1e-05, momentum=0.1, affine=True, track_running_stats=True)\n",
       "    (5): ReLU(inplace=True)\n",
       "    (6): Linear(in_features=512, out_features=512, bias=True)\n",
       "  )\n",
       "  (decoder): Sequential(\n",
       "    (0): Linear(in_features=512, out_features=512, bias=True)\n",
       "    (1): BatchNorm1d(512, eps=1e-05, momentum=0.1, affine=True, track_running_stats=True)\n",
       "    (2): ReLU(inplace=True)\n",
       "    (3): Linear(in_features=512, out_features=512, bias=True)\n",
       "    (4): BatchNorm1d(512, eps=1e-05, momentum=0.1, affine=True, track_running_stats=True)\n",
       "    (5): ReLU(inplace=True)\n",
       "    (6): Linear(in_features=512, out_features=512, bias=True)\n",
       "  )\n",
       ")"
      ]
     },
     "execution_count": 5,
     "metadata": {},
     "output_type": "execute_result"
    }
   ],
   "source": [
    "autoencoder=Autoencoder()\n",
    "autoencoder"
   ]
  },
  {
   "cell_type": "code",
   "execution_count": 6,
   "metadata": {},
   "outputs": [
    {
     "name": "stdout",
     "output_type": "stream",
     "text": [
      "\n",
      "\n",
      "\n",
      "\n",
      "\n",
      "\n",
      "\n",
      "\n",
      "\n",
      "\n",
      "\n",
      "\n",
      "\n",
      "\n",
      "\n",
      "\n",
      "\n",
      "\n",
      "\n",
      "\n",
      "\n",
      "\n",
      "\n",
      "\n",
      "\n",
      "\n",
      "\n",
      "\n",
      "\n",
      "\n",
      "\n",
      "\n",
      "\n",
      "\n",
      "\n",
      "\n",
      "\n",
      "\n",
      "\n",
      "\n",
      "\n",
      "\n",
      "\n",
      "\n",
      "\n"
     ]
    }
   ],
   "source": [
    "for index,(d,null) in enumerate(loader):\n",
    "    print(\"\")"
   ]
  },
  {
   "cell_type": "code",
   "execution_count": 7,
   "metadata": {},
   "outputs": [],
   "source": [
    "def channel(x, snr,N): \n",
    "    snr = 10**(snr/10.0)\n",
    "    Power = torch.sum(torch.sum(torch.square(x), dim=2),dim=1)/N\n",
    "    npower = torch.sqrt((Power / snr)/2)\n",
    "    aa=torch.randn((len(x),len(x[0]),len(x[0,0,:])))\n",
    "    bb=npower.unsqueeze(1).unsqueeze(1).repeat(1,256,2)\n",
    "    return aa.mul(bb)"
   ]
  },
  {
   "cell_type": "code",
   "execution_count": 8,
   "metadata": {},
   "outputs": [
    {
     "data": {
      "text/plain": [
       "tensor([[[ 1.,  1.],\n",
       "         [-3.,  1.],\n",
       "         [ 1., -1.],\n",
       "         ...,\n",
       "         [-3., -1.],\n",
       "         [-1.,  1.],\n",
       "         [ 3., -3.]],\n",
       "\n",
       "        [[ 3.,  1.],\n",
       "         [-3.,  3.],\n",
       "         [-1.,  1.],\n",
       "         ...,\n",
       "         [-3.,  1.],\n",
       "         [-1., -3.],\n",
       "         [ 1., -3.]],\n",
       "\n",
       "        [[-1., -3.],\n",
       "         [-3., -1.],\n",
       "         [ 1.,  1.],\n",
       "         ...,\n",
       "         [-3., -1.],\n",
       "         [-3., -3.],\n",
       "         [ 3., -1.]],\n",
       "\n",
       "        ...,\n",
       "\n",
       "        [[-1.,  3.],\n",
       "         [ 3.,  3.],\n",
       "         [-1., -1.],\n",
       "         ...,\n",
       "         [-3.,  1.],\n",
       "         [ 3., -3.],\n",
       "         [-3., -1.]],\n",
       "\n",
       "        [[ 3., -3.],\n",
       "         [-3., -3.],\n",
       "         [-1.,  3.],\n",
       "         ...,\n",
       "         [ 1., -3.],\n",
       "         [-1.,  3.],\n",
       "         [-3., -3.]],\n",
       "\n",
       "        [[-1.,  1.],\n",
       "         [-1., -3.],\n",
       "         [ 3.,  3.],\n",
       "         ...,\n",
       "         [-1., -3.],\n",
       "         [ 1.,  3.],\n",
       "         [-3.,  3.]]])"
      ]
     },
     "execution_count": 8,
     "metadata": {},
     "output_type": "execute_result"
    }
   ],
   "source": [
    "d"
   ]
  },
  {
   "cell_type": "code",
   "execution_count": 9,
   "metadata": {},
   "outputs": [
    {
     "data": {
      "text/plain": [
       "tensor([[[-0.0391,  0.1562],\n",
       "         [ 0.0376,  0.1968],\n",
       "         [-0.0085, -0.0380],\n",
       "         ...,\n",
       "         [ 0.0514,  0.0480],\n",
       "         [ 0.0524,  0.0379],\n",
       "         [ 0.3304, -0.1945]],\n",
       "\n",
       "        [[ 0.0156,  0.0938],\n",
       "         [ 0.2493,  0.1748],\n",
       "         [-0.2367, -0.2220],\n",
       "         ...,\n",
       "         [ 0.1019,  0.0367],\n",
       "         [-0.0587,  0.0742],\n",
       "         [ 0.0781, -0.1822]],\n",
       "\n",
       "        [[ 0.0547, -0.0312],\n",
       "         [ 0.2771,  0.0660],\n",
       "         [ 0.0097,  0.0658],\n",
       "         ...,\n",
       "         [ 0.0478, -0.0686],\n",
       "         [-0.3433,  0.2374],\n",
       "         [-0.0940, -0.2065]],\n",
       "\n",
       "        ...,\n",
       "\n",
       "        [[-0.0312,  0.0391],\n",
       "         [-0.0700, -0.0301],\n",
       "         [ 0.0793,  0.1770],\n",
       "         ...,\n",
       "         [-0.1128,  0.0789],\n",
       "         [ 0.1516, -0.0055],\n",
       "         [ 0.2802,  0.1592]],\n",
       "\n",
       "        [[-0.2109, -0.0312],\n",
       "         [-0.1165,  0.0699],\n",
       "         [ 0.2465, -0.2765],\n",
       "         ...,\n",
       "         [ 0.0385, -0.0490],\n",
       "         [-0.0264,  0.1656],\n",
       "         [ 0.0299,  0.1344]],\n",
       "\n",
       "        [[ 0.0625,  0.0156],\n",
       "         [ 0.0472, -0.0861],\n",
       "         [-0.0935,  0.1232],\n",
       "         ...,\n",
       "         [-0.3462, -0.0015],\n",
       "         [-0.2092, -0.0788],\n",
       "         [ 0.0951,  0.2598]]])"
      ]
     },
     "execution_count": 9,
     "metadata": {},
     "output_type": "execute_result"
    }
   ],
   "source": [
    "a=torch.ifft(d, 1)\n",
    "a"
   ]
  },
  {
   "cell_type": "code",
   "execution_count": 10,
   "metadata": {},
   "outputs": [
    {
     "data": {
      "text/plain": [
       "tensor([[[-0.0443,  0.1591],\n",
       "         [ 0.0307,  0.2139],\n",
       "         [-0.0285, -0.0440],\n",
       "         ...,\n",
       "         [ 0.0612,  0.0491],\n",
       "         [ 0.0413,  0.0249],\n",
       "         [ 0.3047, -0.1775]],\n",
       "\n",
       "        [[-0.0027,  0.1002],\n",
       "         [ 0.2429,  0.1755],\n",
       "         [-0.2540, -0.2279],\n",
       "         ...,\n",
       "         [ 0.0994,  0.0210],\n",
       "         [-0.0311,  0.0724],\n",
       "         [ 0.1057, -0.1729]],\n",
       "\n",
       "        [[ 0.0359, -0.0346],\n",
       "         [ 0.2929,  0.0681],\n",
       "         [ 0.0311,  0.0423],\n",
       "         ...,\n",
       "         [ 0.0413, -0.0848],\n",
       "         [-0.3717,  0.2283],\n",
       "         [-0.0938, -0.1888]],\n",
       "\n",
       "        ...,\n",
       "\n",
       "        [[-0.0373,  0.0449],\n",
       "         [-0.0719, -0.0184],\n",
       "         [ 0.0770,  0.1724],\n",
       "         ...,\n",
       "         [-0.1316,  0.0722],\n",
       "         [ 0.1607, -0.0094],\n",
       "         [ 0.2914,  0.1589]],\n",
       "\n",
       "        [[-0.2029, -0.0211],\n",
       "         [-0.1154,  0.0684],\n",
       "         [ 0.2748, -0.2711],\n",
       "         ...,\n",
       "         [ 0.0153, -0.0625],\n",
       "         [-0.0254,  0.1847],\n",
       "         [ 0.0291,  0.1196]],\n",
       "\n",
       "        [[ 0.0580,  0.0200],\n",
       "         [ 0.0335, -0.0799],\n",
       "         [-0.0863,  0.1369],\n",
       "         ...,\n",
       "         [-0.3455, -0.0169],\n",
       "         [-0.2271, -0.0856],\n",
       "         [ 0.1121,  0.2463]]])"
      ]
     },
     "execution_count": 10,
     "metadata": {},
     "output_type": "execute_result"
    }
   ],
   "source": [
    "b=a+channel(a,20,256)\n",
    "b"
   ]
  },
  {
   "cell_type": "code",
   "execution_count": 11,
   "metadata": {},
   "outputs": [
    {
     "data": {
      "text/plain": [
       "torch.Size([100, 256, 2])"
      ]
     },
     "execution_count": 11,
     "metadata": {},
     "output_type": "execute_result"
    }
   ],
   "source": [
    "c=torch.fft(b,1)\n",
    "c.shape"
   ]
  },
  {
   "cell_type": "code",
   "execution_count": 12,
   "metadata": {},
   "outputs": [
    {
     "data": {
      "text/plain": [
       "array([[[ 1.1222521 ,  0.7691687 ],\n",
       "        [-3.2600665 ,  1.0624305 ],\n",
       "        [ 0.6795584 , -0.7973106 ],\n",
       "        ...,\n",
       "        [-2.8028474 , -1.1402898 ],\n",
       "        [-1.1636916 ,  0.74376774],\n",
       "        [ 3.0279274 , -3.3073125 ]],\n",
       "\n",
       "       [[ 3.0678706 ,  0.94727373],\n",
       "        [-3.3002527 ,  2.747141  ],\n",
       "        [-1.0803759 ,  0.8113804 ],\n",
       "        ...,\n",
       "        [-2.9995272 ,  1.0933374 ],\n",
       "        [-0.78041995, -3.0582314 ],\n",
       "        [ 1.0597686 , -3.2043138 ]],\n",
       "\n",
       "       [[-1.1521354 , -3.1631315 ],\n",
       "        [-3.2613623 , -1.1035373 ],\n",
       "        [ 0.884884  ,  1.2262702 ],\n",
       "        ...,\n",
       "        [-3.2287679 , -1.1398382 ],\n",
       "        [-3.1982858 , -3.1962857 ],\n",
       "        [ 3.2560883 , -1.0504769 ]],\n",
       "\n",
       "       ...,\n",
       "\n",
       "       [[-1.070962  ,  3.51137   ],\n",
       "        [ 3.0932956 ,  3.1114538 ],\n",
       "        [-0.59860235, -1.5165093 ],\n",
       "        ...,\n",
       "        [-3.2753284 ,  1.1808965 ],\n",
       "        [ 2.95556   , -3.1672375 ],\n",
       "        [-3.2277653 , -1.5119448 ]],\n",
       "\n",
       "       [[ 2.8019795 , -2.743355  ],\n",
       "        [-2.9676776 , -3.181234  ],\n",
       "        [-1.2555275 ,  3.0973446 ],\n",
       "        ...,\n",
       "        [ 0.8805748 , -2.753382  ],\n",
       "        [-0.71462506,  3.0444007 ],\n",
       "        [-2.938355  , -2.9354796 ]],\n",
       "\n",
       "       [[-1.2645173 ,  0.9341086 ],\n",
       "        [-0.69240904, -3.184138  ],\n",
       "        [ 2.866617  ,  3.1093032 ],\n",
       "        ...,\n",
       "        [-1.147042  , -3.0315833 ],\n",
       "        [ 0.7395481 ,  2.9351661 ],\n",
       "        [-3.0678172 ,  3.1181078 ]]], dtype=float32)"
      ]
     },
     "execution_count": 12,
     "metadata": {},
     "output_type": "execute_result"
    }
   ],
   "source": [
    "x=c.numpy()\n",
    "x"
   ]
  },
  {
   "cell_type": "code",
   "execution_count": 13,
   "metadata": {},
   "outputs": [
    {
     "data": {
      "text/plain": [
       "array([ 1.1222521+0.7691687j, -3.2600665+1.0624305j,\n",
       "        0.6795584-0.7973106j, ..., -1.147042 -3.0315833j,\n",
       "        0.7395481+2.9351661j, -3.0678172+3.1181078j], dtype=complex64)"
      ]
     },
     "execution_count": 13,
     "metadata": {},
     "output_type": "execute_result"
    }
   ],
   "source": [
    "y=(x[:,:,0]+1j*x[:,:,1]).flatten()\n",
    "y"
   ]
  },
  {
   "cell_type": "code",
   "execution_count": 14,
   "metadata": {},
   "outputs": [
    {
     "data": {
      "text/plain": [
       "array([0.2612062, 4.260524 , 1.8256528, ..., 4.567653 , 1.9526144,\n",
       "       4.586231 ], dtype=float32)"
      ]
     },
     "execution_count": 14,
     "metadata": {},
     "output_type": "execute_result"
    }
   ],
   "source": [
    "abs(y-util.mapping_table[(0,0,0,0)])"
   ]
  },
  {
   "cell_type": "code",
   "execution_count": 15,
   "metadata": {},
   "outputs": [
    {
     "data": {
      "text/plain": [
       "(25600, 16)"
      ]
     },
     "execution_count": 15,
     "metadata": {},
     "output_type": "execute_result"
    }
   ],
   "source": [
    "m=[]\n",
    "for key in util.mapping_table.keys():\n",
    "    m.append(abs(y-util.mapping_table[key]))\n",
    "m=np.array(m).T\n",
    "m.shape"
   ]
  },
  {
   "cell_type": "code",
   "execution_count": 18,
   "metadata": {},
   "outputs": [
    {
     "data": {
      "text/plain": [
       "array([ 0,  5,  2, ..., 11,  8, 13], dtype=int64)"
      ]
     },
     "execution_count": 18,
     "metadata": {},
     "output_type": "execute_result"
    }
   ],
   "source": [
    "n=np.argmin(m,axis=1)\n",
    "n"
   ]
  },
  {
   "cell_type": "code",
   "execution_count": 21,
   "metadata": {},
   "outputs": [
    {
     "data": {
      "text/plain": [
       "array([0, 0, 0, ..., 1, 0, 1])"
      ]
     },
     "execution_count": 21,
     "metadata": {},
     "output_type": "execute_result"
    }
   ],
   "source": [
    "bits=util.Demapping(n)\n",
    "bits.flatten()"
   ]
  },
  {
   "cell_type": "code",
   "execution_count": 24,
   "metadata": {},
   "outputs": [],
   "source": [
    "prnet=np.zeros((1000,256))"
   ]
  },
  {
   "cell_type": "code",
   "execution_count": 25,
   "metadata": {},
   "outputs": [],
   "source": [
    "def channales(x):\n",
    "    y=(x[:,:,0]+1j*x[:,:,1]).flatten()\n",
    "    m=[]\n",
    "    for key in util.mapping_table.keys():\n",
    "        m.append(abs(y-util.mapping_table[key]))\n",
    "    m=np.array(m).T\n",
    "    n=np.argmin(m,axis=1)\n",
    "    return util.Demapping(n).flatten()"
   ]
  },
  {
   "cell_type": "code",
   "execution_count": 26,
   "metadata": {},
   "outputs": [
    {
     "data": {
      "text/plain": [
       "array([0, 0, 0, ..., 1, 0, 1])"
      ]
     },
     "execution_count": 26,
     "metadata": {},
     "output_type": "execute_result"
    }
   ],
   "source": [
    "channales(x)"
   ]
  },
  {
   "cell_type": "code",
   "execution_count": null,
   "metadata": {},
   "outputs": [],
   "source": []
  }
 ],
 "metadata": {
  "kernelspec": {
   "display_name": "Python 3",
   "language": "python",
   "name": "python3"
  },
  "language_info": {
   "codemirror_mode": {
    "name": "ipython",
    "version": 3
   },
   "file_extension": ".py",
   "mimetype": "text/x-python",
   "name": "python",
   "nbconvert_exporter": "python",
   "pygments_lexer": "ipython3",
   "version": "3.8.3"
  }
 },
 "nbformat": 4,
 "nbformat_minor": 4
}
