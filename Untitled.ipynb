{
 "cells": [
  {
   "cell_type": "code",
   "execution_count": 1,
   "metadata": {},
   "outputs": [],
   "source": [
    "import ofdm_util as util\n",
    "import numpy as np\n",
    "import torch\n",
    "import torch.nn as nn\n",
    "import torch.nn.functional as F\n",
    "import torch.optim as optim\n",
    "import torch.utils.data as Data\n",
    "from matplotlib import pyplot as plt\n",
    "import scipy.io as scio\n",
    "from torchvision import datasets, transforms\n",
    "from torch.autograd import Variable"
   ]
  },
  {
   "cell_type": "code",
   "execution_count": 5,
   "metadata": {},
   "outputs": [],
   "source": [
    "S = 5000\n",
    "N = 256\n",
    "mu = 4\n",
    "BATCH_SIZE = 100\n",
    "Epoch = 100\n",
    "vS = 500"
   ]
  },
  {
   "cell_type": "code",
   "execution_count": 6,
   "metadata": {},
   "outputs": [],
   "source": [
    "t = np.load('./data/train.npz')['data']\n",
    "train = t.reshape(S * N, mu)\n",
    "\n",
    "x = util.Mapping(train)\n",
    "x = np.concatenate([np.expand_dims(x.real, 1), np.expand_dims(x.imag, 1)], axis=1).reshape(S,N,2)\n",
    "trainset = torch.tensor(x[vS:, :], dtype=torch.float)\n",
    "\n",
    "torch_dataset = Data.TensorDataset(trainset,torch.zeros(trainset.shape))\n",
    "loader = Data.DataLoader(\n",
    "    dataset=torch_dataset,\n",
    "    batch_size=BATCH_SIZE,\n",
    "    shuffle=True,\n",
    ")\n",
    "\n",
    "valset = torch.tensor(x[:vS, :], dtype=torch.float)\n",
    "val_dataset = Data.TensorDataset(valset,torch.zeros(valset.shape))\n",
    "valloader = Data.DataLoader(\n",
    "    dataset=val_dataset,\n",
    "    batch_size=BATCH_SIZE,\n",
    "    shuffle=True,\n",
    ")"
   ]
  },
  {
   "cell_type": "code",
   "execution_count": 7,
   "metadata": {},
   "outputs": [],
   "source": [
    "class Autoencoder(nn.Module):\n",
    "    def __init__(self):\n",
    "        super(Autoencoder, self).__init__()\n",
    "        self.encoder = nn.Sequential(\n",
    "            nn.Linear(N*2, N*2),\n",
    "            nn.BatchNorm1d(N*2),\n",
    "            nn.ReLU(inplace=True),\n",
    "\n",
    "            nn.Linear(N*2, N*2),\n",
    "            nn.BatchNorm1d(N*2),\n",
    "            nn.ReLU(inplace=True),\n",
    "\n",
    "            nn.Linear(N*2, N*2))\n",
    "        self.decoder = nn.Sequential(\n",
    "            nn.Linear(N*2, N*2),\n",
    "            nn.BatchNorm1d(N*2),\n",
    "            nn.ReLU(inplace=True),\n",
    "\n",
    "            nn.Linear(N*2, N*2),\n",
    "            nn.BatchNorm1d(N*2),\n",
    "            nn.ReLU(inplace=True),\n",
    "\n",
    "            nn.Linear(N*2, N*2))\n",
    "    def forward(self, x):\n",
    "        encode = self.encoder(x.view(-1,N*2)).reshape(-1,N,2)\n",
    "        decode = self.decoder(encode.view(-1,N*2)).reshape(-1,N,2)\n",
    "        return encode, decode"
   ]
  },
  {
   "cell_type": "code",
   "execution_count": 8,
   "metadata": {},
   "outputs": [
    {
     "data": {
      "text/plain": [
       "Autoencoder(\n",
       "  (encoder): Sequential(\n",
       "    (0): Linear(in_features=512, out_features=512, bias=True)\n",
       "    (1): BatchNorm1d(512, eps=1e-05, momentum=0.1, affine=True, track_running_stats=True)\n",
       "    (2): ReLU(inplace=True)\n",
       "    (3): Linear(in_features=512, out_features=512, bias=True)\n",
       "    (4): BatchNorm1d(512, eps=1e-05, momentum=0.1, affine=True, track_running_stats=True)\n",
       "    (5): ReLU(inplace=True)\n",
       "    (6): Linear(in_features=512, out_features=512, bias=True)\n",
       "  )\n",
       "  (decoder): Sequential(\n",
       "    (0): Linear(in_features=512, out_features=512, bias=True)\n",
       "    (1): BatchNorm1d(512, eps=1e-05, momentum=0.1, affine=True, track_running_stats=True)\n",
       "    (2): ReLU(inplace=True)\n",
       "    (3): Linear(in_features=512, out_features=512, bias=True)\n",
       "    (4): BatchNorm1d(512, eps=1e-05, momentum=0.1, affine=True, track_running_stats=True)\n",
       "    (5): ReLU(inplace=True)\n",
       "    (6): Linear(in_features=512, out_features=512, bias=True)\n",
       "  )\n",
       ")"
      ]
     },
     "execution_count": 8,
     "metadata": {},
     "output_type": "execute_result"
    }
   ],
   "source": [
    "autoencoder=Autoencoder()\n",
    "autoencoder"
   ]
  },
  {
   "cell_type": "code",
   "execution_count": 9,
   "metadata": {},
   "outputs": [
    {
     "name": "stdout",
     "output_type": "stream",
     "text": [
      "torch.Size([100, 256, 2])\n",
      "torch.Size([100, 256, 2])\n",
      "torch.Size([100, 256, 2])\n",
      "torch.Size([100, 256, 2])\n",
      "torch.Size([100, 256, 2])\n",
      "torch.Size([100, 256, 2])\n",
      "torch.Size([100, 256, 2])\n",
      "torch.Size([100, 256, 2])\n",
      "torch.Size([100, 256, 2])\n",
      "torch.Size([100, 256, 2])\n",
      "torch.Size([100, 256, 2])\n",
      "torch.Size([100, 256, 2])\n",
      "torch.Size([100, 256, 2])\n",
      "torch.Size([100, 256, 2])\n",
      "torch.Size([100, 256, 2])\n",
      "torch.Size([100, 256, 2])\n",
      "torch.Size([100, 256, 2])\n",
      "torch.Size([100, 256, 2])\n",
      "torch.Size([100, 256, 2])\n",
      "torch.Size([100, 256, 2])\n",
      "torch.Size([100, 256, 2])\n",
      "torch.Size([100, 256, 2])\n",
      "torch.Size([100, 256, 2])\n",
      "torch.Size([100, 256, 2])\n",
      "torch.Size([100, 256, 2])\n",
      "torch.Size([100, 256, 2])\n",
      "torch.Size([100, 256, 2])\n",
      "torch.Size([100, 256, 2])\n",
      "torch.Size([100, 256, 2])\n",
      "torch.Size([100, 256, 2])\n",
      "torch.Size([100, 256, 2])\n",
      "torch.Size([100, 256, 2])\n",
      "torch.Size([100, 256, 2])\n",
      "torch.Size([100, 256, 2])\n",
      "torch.Size([100, 256, 2])\n",
      "torch.Size([100, 256, 2])\n",
      "torch.Size([100, 256, 2])\n",
      "torch.Size([100, 256, 2])\n",
      "torch.Size([100, 256, 2])\n",
      "torch.Size([100, 256, 2])\n",
      "torch.Size([100, 256, 2])\n",
      "torch.Size([100, 256, 2])\n",
      "torch.Size([100, 256, 2])\n",
      "torch.Size([100, 256, 2])\n",
      "torch.Size([100, 256, 2])\n",
      "torch.Size([100, 256, 2])\n",
      "torch.Size([100, 256, 2])\n",
      "torch.Size([100, 256, 2])\n",
      "torch.Size([100, 256, 2])\n",
      "torch.Size([100, 256, 2])\n",
      "torch.Size([100, 256, 2])\n",
      "torch.Size([100, 256, 2])\n",
      "torch.Size([100, 256, 2])\n",
      "torch.Size([100, 256, 2])\n",
      "torch.Size([100, 256, 2])\n",
      "torch.Size([100, 256, 2])\n",
      "torch.Size([100, 256, 2])\n",
      "torch.Size([100, 256, 2])\n",
      "torch.Size([100, 256, 2])\n",
      "torch.Size([100, 256, 2])\n",
      "torch.Size([100, 256, 2])\n",
      "torch.Size([100, 256, 2])\n",
      "torch.Size([100, 256, 2])\n",
      "torch.Size([100, 256, 2])\n",
      "torch.Size([100, 256, 2])\n",
      "torch.Size([100, 256, 2])\n",
      "torch.Size([100, 256, 2])\n",
      "torch.Size([100, 256, 2])\n",
      "torch.Size([100, 256, 2])\n",
      "torch.Size([100, 256, 2])\n",
      "torch.Size([100, 256, 2])\n",
      "torch.Size([100, 256, 2])\n",
      "torch.Size([100, 256, 2])\n",
      "torch.Size([100, 256, 2])\n",
      "torch.Size([100, 256, 2])\n",
      "torch.Size([100, 256, 2])\n",
      "torch.Size([100, 256, 2])\n",
      "torch.Size([100, 256, 2])\n",
      "torch.Size([100, 256, 2])\n",
      "torch.Size([100, 256, 2])\n",
      "torch.Size([100, 256, 2])\n",
      "torch.Size([100, 256, 2])\n",
      "torch.Size([100, 256, 2])\n",
      "torch.Size([100, 256, 2])\n",
      "torch.Size([100, 256, 2])\n",
      "torch.Size([100, 256, 2])\n",
      "torch.Size([100, 256, 2])\n",
      "torch.Size([100, 256, 2])\n",
      "torch.Size([100, 256, 2])\n",
      "torch.Size([100, 256, 2])\n"
     ]
    }
   ],
   "source": [
    "for index, (d,null) in enumerate(loader):\n",
    "    x,y=autoencoder(d)\n",
    "    print(x.shape)\n",
    "    print(y.shape)"
   ]
  },
  {
   "cell_type": "code",
   "execution_count": 10,
   "metadata": {},
   "outputs": [],
   "source": [
    "Power1 = torch.sqrt(torch.sum(torch.square(x), dim=2))"
   ]
  },
  {
   "cell_type": "code",
   "execution_count": 11,
   "metadata": {},
   "outputs": [
    {
     "data": {
      "text/plain": [
       "torch.Size([100, 256])"
      ]
     },
     "execution_count": 11,
     "metadata": {},
     "output_type": "execute_result"
    }
   ],
   "source": [
    "Power1.shape"
   ]
  },
  {
   "cell_type": "code",
   "execution_count": 12,
   "metadata": {},
   "outputs": [],
   "source": [
    "Max1 = torch.max(Power1, dim=1)[0]"
   ]
  },
  {
   "cell_type": "code",
   "execution_count": 13,
   "metadata": {},
   "outputs": [
    {
     "data": {
      "text/plain": [
       "tensor([1.5432, 1.5378, 1.3647, 1.5543, 1.6270, 1.3469, 1.4404, 1.2856, 0.9986,\n",
       "        1.6705, 1.3103, 1.4963, 1.2973, 1.3739, 1.1754, 1.2432, 1.2892, 1.4699,\n",
       "        1.4005, 1.4113, 1.2332, 1.0713, 1.2358, 1.3798, 1.2697, 1.4235, 1.3967,\n",
       "        1.3446, 1.7775, 1.1475, 1.3505, 1.2746, 1.5489, 1.3815, 1.2416, 1.3311,\n",
       "        1.3269, 1.0773, 1.6287, 1.3617, 1.2425, 1.2768, 1.2569, 1.4777, 1.4532,\n",
       "        1.6371, 1.4332, 1.2766, 1.5564, 1.3804, 1.2534, 1.4807, 1.2977, 1.4912,\n",
       "        1.3663, 1.2047, 1.1533, 1.3132, 1.3966, 1.2609, 1.3818, 1.4278, 1.4680,\n",
       "        1.2274, 1.5036, 1.8081, 1.3716, 1.2735, 1.1855, 1.0421, 1.3946, 1.3918,\n",
       "        1.5128, 1.6512, 1.7263, 1.3905, 1.3228, 1.5451, 1.4144, 1.4426, 1.5070,\n",
       "        1.3124, 1.4509, 1.3410, 1.2033, 1.2183, 1.5142, 1.3537, 1.3936, 1.4227,\n",
       "        1.1512, 1.6461, 1.3937, 1.4365, 1.7894, 1.7539, 1.5334, 1.3215, 1.5378,\n",
       "        1.3586], grad_fn=<MaxBackward0>)"
      ]
     },
     "execution_count": 13,
     "metadata": {},
     "output_type": "execute_result"
    }
   ],
   "source": [
    "Max1"
   ]
  },
  {
   "cell_type": "code",
   "execution_count": 14,
   "metadata": {},
   "outputs": [],
   "source": [
    "Mean1 = torch.mean(Power1, dim=1)"
   ]
  },
  {
   "cell_type": "code",
   "execution_count": 15,
   "metadata": {},
   "outputs": [
    {
     "data": {
      "text/plain": [
       "tensor([0.5059, 0.5430, 0.4925, 0.5258, 0.5819, 0.4740, 0.5094, 0.5039, 0.4049,\n",
       "        0.5222, 0.5503, 0.5385, 0.4788, 0.5136, 0.4560, 0.4829, 0.5006, 0.5093,\n",
       "        0.5100, 0.5176, 0.5457, 0.4761, 0.5000, 0.5125, 0.5148, 0.4910, 0.4883,\n",
       "        0.5161, 0.5021, 0.4720, 0.4754, 0.4719, 0.5538, 0.4914, 0.4892, 0.4945,\n",
       "        0.5093, 0.4651, 0.5099, 0.4907, 0.4503, 0.4835, 0.5102, 0.5333, 0.5293,\n",
       "        0.5606, 0.4957, 0.4747, 0.5108, 0.5225, 0.5137, 0.5064, 0.5344, 0.5473,\n",
       "        0.5325, 0.5008, 0.5089, 0.4615, 0.4978, 0.5004, 0.4906, 0.5486, 0.4887,\n",
       "        0.4954, 0.5364, 0.5528, 0.4935, 0.4935, 0.4771, 0.4420, 0.5499, 0.5204,\n",
       "        0.5356, 0.5341, 0.5649, 0.4852, 0.5506, 0.5784, 0.5501, 0.5725, 0.5502,\n",
       "        0.4869, 0.5530, 0.5288, 0.5038, 0.5000, 0.4999, 0.4924, 0.4833, 0.5359,\n",
       "        0.4561, 0.5295, 0.5611, 0.5517, 0.5180, 0.5334, 0.4919, 0.4786, 0.5253,\n",
       "        0.5051], grad_fn=<MeanBackward1>)"
      ]
     },
     "execution_count": 15,
     "metadata": {},
     "output_type": "execute_result"
    }
   ],
   "source": [
    "Mean1"
   ]
  },
  {
   "cell_type": "code",
   "execution_count": 16,
   "metadata": {},
   "outputs": [],
   "source": [
    "Papr1 = torch.mean(Max1 /Mean1)"
   ]
  },
  {
   "cell_type": "code",
   "execution_count": 17,
   "metadata": {},
   "outputs": [
    {
     "data": {
      "text/plain": [
       "tensor(2.7225, grad_fn=<MeanBackward0>)"
      ]
     },
     "execution_count": 17,
     "metadata": {},
     "output_type": "execute_result"
    }
   ],
   "source": [
    "Papr1"
   ]
  },
  {
   "cell_type": "code",
   "execution_count": 18,
   "metadata": {},
   "outputs": [],
   "source": [
    "mse=nn.MSELoss()"
   ]
  },
  {
   "cell_type": "code",
   "execution_count": 19,
   "metadata": {},
   "outputs": [
    {
     "data": {
      "text/plain": [
       "tensor(0.3385, grad_fn=<MeanBackward0>)"
      ]
     },
     "execution_count": 19,
     "metadata": {},
     "output_type": "execute_result"
    }
   ],
   "source": [
    "mse(x,y)"
   ]
  },
  {
   "cell_type": "code",
   "execution_count": 20,
   "metadata": {},
   "outputs": [],
   "source": [
    "a=torch.ifft(x, 1)"
   ]
  },
  {
   "cell_type": "code",
   "execution_count": 21,
   "metadata": {},
   "outputs": [],
   "source": [
    "b=torch.ifft(x, 1)"
   ]
  },
  {
   "cell_type": "code",
   "execution_count": 22,
   "metadata": {},
   "outputs": [],
   "source": [
    "c=torch.fft(b,1)"
   ]
  },
  {
   "cell_type": "code",
   "execution_count": 23,
   "metadata": {},
   "outputs": [
    {
     "data": {
      "text/plain": [
       "tensor([[[ 0.5211,  0.6377],\n",
       "         [ 0.1189,  0.2789],\n",
       "         [-0.3610,  0.1820],\n",
       "         ...,\n",
       "         [ 0.4187, -0.2477],\n",
       "         [-0.0030,  0.1574],\n",
       "         [ 0.0865,  0.0798]],\n",
       "\n",
       "        [[ 0.0340,  0.4474],\n",
       "         [ 0.6152, -0.7143],\n",
       "         [ 0.2007, -0.5508],\n",
       "         ...,\n",
       "         [-0.1787, -0.3000],\n",
       "         [ 0.3182,  0.2080],\n",
       "         [-0.0331,  0.0187]],\n",
       "\n",
       "        [[ 0.1233, -0.3064],\n",
       "         [-0.3743, -0.5951],\n",
       "         [ 0.0864, -0.9039],\n",
       "         ...,\n",
       "         [ 0.0339, -0.2889],\n",
       "         [ 0.4805,  0.1870],\n",
       "         [ 0.3819, -0.3320]],\n",
       "\n",
       "        ...,\n",
       "\n",
       "        [[ 0.2588, -0.4088],\n",
       "         [ 0.2140, -0.2936],\n",
       "         [-0.1526, -0.1942],\n",
       "         ...,\n",
       "         [-0.1592, -0.5160],\n",
       "         [-0.0450,  0.2837],\n",
       "         [ 0.1120, -0.1735]],\n",
       "\n",
       "        [[-0.5831,  0.0691],\n",
       "         [ 0.8387, -0.2087],\n",
       "         [ 0.1423, -0.2574],\n",
       "         ...,\n",
       "         [ 0.0593, -0.4297],\n",
       "         [-0.2067, -0.4903],\n",
       "         [ 0.1401,  0.0124]],\n",
       "\n",
       "        [[ 0.0669,  0.2191],\n",
       "         [-0.0153, -0.2631],\n",
       "         [ 0.2735, -0.0494],\n",
       "         ...,\n",
       "         [ 0.2766,  0.0431],\n",
       "         [ 0.0284,  0.1357],\n",
       "         [ 0.4271, -0.1965]]], grad_fn=<ViewBackward>)"
      ]
     },
     "execution_count": 23,
     "metadata": {},
     "output_type": "execute_result"
    }
   ],
   "source": [
    "x"
   ]
  },
  {
   "cell_type": "code",
   "execution_count": 24,
   "metadata": {},
   "outputs": [
    {
     "data": {
      "text/plain": [
       "tensor([[[ 1., -1.],\n",
       "         [-1.,  1.],\n",
       "         [-3.,  1.],\n",
       "         ...,\n",
       "         [ 3., -1.],\n",
       "         [-1.,  3.],\n",
       "         [-3.,  1.]],\n",
       "\n",
       "        [[-1.,  1.],\n",
       "         [-1., -3.],\n",
       "         [ 1.,  1.],\n",
       "         ...,\n",
       "         [ 1., -3.],\n",
       "         [-1., -3.],\n",
       "         [-3., -1.]],\n",
       "\n",
       "        [[ 1., -1.],\n",
       "         [-1., -1.],\n",
       "         [ 3.,  1.],\n",
       "         ...,\n",
       "         [ 1., -3.],\n",
       "         [-3., -3.],\n",
       "         [ 1.,  1.]],\n",
       "\n",
       "        ...,\n",
       "\n",
       "        [[ 1.,  1.],\n",
       "         [-3., -3.],\n",
       "         [ 1.,  1.],\n",
       "         ...,\n",
       "         [ 1., -1.],\n",
       "         [-3.,  3.],\n",
       "         [-1., -1.]],\n",
       "\n",
       "        [[-3., -1.],\n",
       "         [-3., -3.],\n",
       "         [-3.,  1.],\n",
       "         ...,\n",
       "         [-3., -3.],\n",
       "         [ 3.,  1.],\n",
       "         [ 3., -1.]],\n",
       "\n",
       "        [[ 1., -1.],\n",
       "         [-1.,  1.],\n",
       "         [ 1.,  3.],\n",
       "         ...,\n",
       "         [ 3., -3.],\n",
       "         [ 3.,  3.],\n",
       "         [ 3.,  1.]]])"
      ]
     },
     "execution_count": 24,
     "metadata": {},
     "output_type": "execute_result"
    }
   ],
   "source": [
    "d"
   ]
  },
  {
   "cell_type": "code",
   "execution_count": 25,
   "metadata": {},
   "outputs": [],
   "source": [
    "def channel(x, snr,N): \n",
    "    snr = 10**(snr/10.0)\n",
    "    Power = torch.sum(torch.sum(torch.square(x), dim=2),dim=1)/N\n",
    "    npower = torch.sqrt((Power / snr)/2)\n",
    "    aa=torch.randn((len(x),len(x[0]),len(x[0,0,:])))\n",
    "    bb=npower.unsqueeze(1).unsqueeze(1).repeat(1,256,2)\n",
    "    return aa.mul(bb)"
   ]
  },
  {
   "cell_type": "code",
   "execution_count": 26,
   "metadata": {},
   "outputs": [
    {
     "data": {
      "text/plain": [
       "tensor([[[ 1., -1.],\n",
       "         [-1.,  1.],\n",
       "         [-3.,  1.],\n",
       "         ...,\n",
       "         [ 3., -1.],\n",
       "         [-1.,  3.],\n",
       "         [-3.,  1.]],\n",
       "\n",
       "        [[-1.,  1.],\n",
       "         [-1., -3.],\n",
       "         [ 1.,  1.],\n",
       "         ...,\n",
       "         [ 1., -3.],\n",
       "         [-1., -3.],\n",
       "         [-3., -1.]],\n",
       "\n",
       "        [[ 1., -1.],\n",
       "         [-1., -1.],\n",
       "         [ 3.,  1.],\n",
       "         ...,\n",
       "         [ 1., -3.],\n",
       "         [-3., -3.],\n",
       "         [ 1.,  1.]],\n",
       "\n",
       "        ...,\n",
       "\n",
       "        [[ 1.,  1.],\n",
       "         [-3., -3.],\n",
       "         [ 1.,  1.],\n",
       "         ...,\n",
       "         [ 1., -1.],\n",
       "         [-3.,  3.],\n",
       "         [-1., -1.]],\n",
       "\n",
       "        [[-3., -1.],\n",
       "         [-3., -3.],\n",
       "         [-3.,  1.],\n",
       "         ...,\n",
       "         [-3., -3.],\n",
       "         [ 3.,  1.],\n",
       "         [ 3., -1.]],\n",
       "\n",
       "        [[ 1., -1.],\n",
       "         [-1.,  1.],\n",
       "         [ 1.,  3.],\n",
       "         ...,\n",
       "         [ 3., -3.],\n",
       "         [ 3.,  3.],\n",
       "         [ 3.,  1.]]])"
      ]
     },
     "execution_count": 26,
     "metadata": {},
     "output_type": "execute_result"
    }
   ],
   "source": [
    "d"
   ]
  },
  {
   "cell_type": "code",
   "execution_count": 30,
   "metadata": {},
   "outputs": [
    {
     "data": {
      "text/plain": [
       "tensor([[[ 0.1406,  0.0000],\n",
       "         [ 0.1560,  0.0227],\n",
       "         [ 0.1312, -0.0298],\n",
       "         ...,\n",
       "         [-0.1391, -0.0298],\n",
       "         [-0.2364, -0.0098],\n",
       "         [-0.3037,  0.0629]],\n",
       "\n",
       "        [[-0.0234, -0.0156],\n",
       "         [ 0.1074,  0.0474],\n",
       "         [-0.2400,  0.0188],\n",
       "         ...,\n",
       "         [-0.2178, -0.0153],\n",
       "         [ 0.1614, -0.0559],\n",
       "         [-0.1940, -0.2393]],\n",
       "\n",
       "        [[ 0.0469, -0.1641],\n",
       "         [ 0.0173,  0.0367],\n",
       "         [ 0.0121,  0.1584],\n",
       "         ...,\n",
       "         [-0.1061,  0.0047],\n",
       "         [ 0.1580, -0.0312],\n",
       "         [ 0.1020, -0.1710]],\n",
       "\n",
       "        ...,\n",
       "\n",
       "        [[ 0.0156,  0.0156],\n",
       "         [-0.2697, -0.0915],\n",
       "         [ 0.0565,  0.0043],\n",
       "         ...,\n",
       "         [ 0.0995, -0.0750],\n",
       "         [ 0.1353,  0.1502],\n",
       "         [-0.0016,  0.0989]],\n",
       "\n",
       "        [[ 0.0156, -0.0391],\n",
       "         [ 0.1615,  0.1677],\n",
       "         [ 0.0798, -0.2311],\n",
       "         ...,\n",
       "         [ 0.1002, -0.0269],\n",
       "         [ 0.2226, -0.0145],\n",
       "         [-0.1705,  0.0760]],\n",
       "\n",
       "        [[-0.0391, -0.1172],\n",
       "         [-0.1114, -0.1046],\n",
       "         [ 0.1409,  0.0154],\n",
       "         ...,\n",
       "         [ 0.0308,  0.0438],\n",
       "         [ 0.0322, -0.0795],\n",
       "         [ 0.2699,  0.0117]]])"
      ]
     },
     "execution_count": 30,
     "metadata": {},
     "output_type": "execute_result"
    }
   ],
   "source": [
    "a=torch.ifft(d, 1)\n",
    "a"
   ]
  },
  {
   "cell_type": "code",
   "execution_count": 31,
   "metadata": {},
   "outputs": [],
   "source": [
    "b=a+channel(a,0,256)"
   ]
  },
  {
   "cell_type": "code",
   "execution_count": 32,
   "metadata": {},
   "outputs": [
    {
     "data": {
      "text/plain": [
       "tensor([[[-7.4172e-02,  2.0627e-01],\n",
       "         [ 2.3770e-01,  7.2663e-02],\n",
       "         [ 3.3472e-01,  5.1109e-02],\n",
       "         ...,\n",
       "         [ 9.3431e-02, -8.2711e-02],\n",
       "         [-1.5861e-01, -2.1587e-02],\n",
       "         [-2.1573e-01,  1.3440e-01]],\n",
       "\n",
       "        [[ 1.2300e-02,  1.2971e-01],\n",
       "         [ 2.4485e-02,  5.5888e-02],\n",
       "         [-8.2942e-02,  3.6252e-01],\n",
       "         ...,\n",
       "         [-3.5169e-01,  9.7128e-02],\n",
       "         [ 1.2536e-01, -3.2009e-01],\n",
       "         [-1.6789e-01, -1.9761e-01]],\n",
       "\n",
       "        [[ 4.4688e-02, -6.0043e-02],\n",
       "         [ 7.2665e-02, -1.3202e-01],\n",
       "         [ 5.2393e-02,  1.0081e-01],\n",
       "         ...,\n",
       "         [-1.9147e-01, -1.9553e-02],\n",
       "         [ 3.7102e-01, -1.0251e-02],\n",
       "         [ 4.8961e-02,  2.0508e-02]],\n",
       "\n",
       "        ...,\n",
       "\n",
       "        [[ 1.5348e-01, -1.7859e-01],\n",
       "         [-1.4252e-01, -1.8146e-02],\n",
       "         [ 1.8845e-01,  1.3415e-01],\n",
       "         ...,\n",
       "         [-4.1928e-03, -3.4954e-02],\n",
       "         [ 1.0862e-01,  6.8455e-02],\n",
       "         [ 6.1887e-02,  6.7907e-02]],\n",
       "\n",
       "        [[ 8.3903e-06, -4.4150e-02],\n",
       "         [ 8.6608e-02,  1.4607e-01],\n",
       "         [ 1.1376e-02, -4.2520e-01],\n",
       "         ...,\n",
       "         [ 1.7481e-01,  9.0294e-02],\n",
       "         [ 1.5919e-01,  3.2827e-01],\n",
       "         [-1.8215e-01,  2.7625e-01]],\n",
       "\n",
       "        [[-1.9253e-01, -3.1662e-01],\n",
       "         [ 1.9488e-01, -3.0234e-01],\n",
       "         [ 1.6776e-01, -7.6177e-02],\n",
       "         ...,\n",
       "         [-8.5142e-02,  3.6165e-02],\n",
       "         [-6.9589e-02, -1.1072e-01],\n",
       "         [ 2.2472e-01, -2.2811e-01]]])"
      ]
     },
     "execution_count": 32,
     "metadata": {},
     "output_type": "execute_result"
    }
   ],
   "source": [
    "b"
   ]
  },
  {
   "cell_type": "code",
   "execution_count": 33,
   "metadata": {},
   "outputs": [
    {
     "data": {
      "text/plain": [
       "tensor([[[-6.3075e-01,  1.2652e+00],\n",
       "         [ 1.2508e+00,  2.2743e+00],\n",
       "         [-3.6545e-01, -2.3106e+00],\n",
       "         ...,\n",
       "         [-2.2184e+00, -4.4454e-01],\n",
       "         [-1.1819e+00,  4.7379e+00],\n",
       "         [-7.5630e-01,  1.6249e+00]],\n",
       "\n",
       "        [[-2.2137e+00,  1.1297e+00],\n",
       "         [ 9.2801e-01, -2.8091e+00],\n",
       "         [ 9.1502e-01,  1.6680e+00],\n",
       "         ...,\n",
       "         [ 5.2054e+00, -1.2692e+00],\n",
       "         [-3.0458e+00, -1.4490e+00],\n",
       "         [-2.8067e+00, -7.3566e-01]],\n",
       "\n",
       "        [[ 3.2702e+00, -2.6544e+00],\n",
       "         [-3.4915e-01,  1.9736e+00],\n",
       "         [ 1.9355e+00,  1.1092e+00],\n",
       "         ...,\n",
       "         [ 3.8718e+00, -4.0847e+00],\n",
       "         [-6.7210e+00, -1.6124e+00],\n",
       "         [ 6.5135e-01, -3.4067e-01]],\n",
       "\n",
       "        ...,\n",
       "\n",
       "        [[-1.6304e+00,  2.0117e+00],\n",
       "         [ 4.5811e-01, -3.8193e+00],\n",
       "         [ 4.0022e+00,  3.5187e+00],\n",
       "         ...,\n",
       "         [ 1.1677e+00, -2.2666e+00],\n",
       "         [-8.6479e-01,  1.8821e+00],\n",
       "         [-7.1146e-01, -1.7901e+00]],\n",
       "\n",
       "        [[ 6.9562e-01, -3.4393e+00],\n",
       "         [-5.8995e+00, -2.7934e+00],\n",
       "         [-4.7785e+00,  6.9644e+00],\n",
       "         ...,\n",
       "         [-3.2488e+00, -1.1363e-01],\n",
       "         [ 2.1276e+00,  3.5936e-01],\n",
       "         [ 4.5207e+00,  1.4787e-03]],\n",
       "\n",
       "        [[-2.2985e+00, -1.2290e+00],\n",
       "         [-1.3244e+00, -1.3557e-01],\n",
       "         [-9.0845e-01,  2.7975e+00],\n",
       "         ...,\n",
       "         [-2.1075e+00, -4.6061e+00],\n",
       "         [ 2.8364e+00,  3.5702e+00],\n",
       "         [ 3.8669e+00, -3.1527e-01]]])"
      ]
     },
     "execution_count": 33,
     "metadata": {},
     "output_type": "execute_result"
    }
   ],
   "source": [
    "c=torch.fft(b,1)\n",
    "c"
   ]
  },
  {
   "cell_type": "code",
   "execution_count": 81,
   "metadata": {},
   "outputs": [
    {
     "data": {
      "text/plain": [
       "tensor(5.1619)"
      ]
     },
     "execution_count": 81,
     "metadata": {},
     "output_type": "execute_result"
    }
   ],
   "source": [
    "loss=nn.MSELoss()\n",
    "loss(a,c)"
   ]
  },
  {
   "cell_type": "code",
   "execution_count": 37,
   "metadata": {},
   "outputs": [
    {
     "data": {
      "text/plain": [
       "tensor([[[-4.3512e-02, -9.5469e-02],\n",
       "         [-2.5938e-02,  7.8975e-02],\n",
       "         [ 1.2520e-01, -5.7413e-02],\n",
       "         ...,\n",
       "         [-9.6593e-05, -7.7883e-02],\n",
       "         [ 2.5995e-02,  1.1831e-01],\n",
       "         [-2.2806e-02, -5.5576e-02]],\n",
       "\n",
       "        [[ 7.8117e-03, -1.0226e-01],\n",
       "         [-7.4510e-02, -3.4683e-02],\n",
       "         [-1.6649e-01,  4.0155e-02],\n",
       "         ...,\n",
       "         [-2.7378e-02, -6.2860e-03],\n",
       "         [ 6.3446e-02,  9.9378e-02],\n",
       "         [ 2.6355e-02,  6.7568e-02]],\n",
       "\n",
       "        [[ 7.0967e-02, -1.4706e-01],\n",
       "         [-1.1639e-01,  2.3147e-01],\n",
       "         [ 1.1874e-01,  4.7449e-02],\n",
       "         ...,\n",
       "         [ 4.3225e-02, -9.9521e-02],\n",
       "         [-2.3879e-01,  5.9581e-03],\n",
       "         [-1.2183e-01,  6.6620e-02]],\n",
       "\n",
       "        ...,\n",
       "\n",
       "        [[-8.8872e-02, -2.4515e-01],\n",
       "         [ 5.8220e-03,  1.6154e-01],\n",
       "         [ 7.5368e-02,  3.4745e-02],\n",
       "         ...,\n",
       "         [-6.0123e-02, -3.7406e-02],\n",
       "         [-1.0628e-01, -1.0352e-01],\n",
       "         [-1.0197e-01,  8.7667e-02]],\n",
       "\n",
       "        [[ 2.6063e-02,  7.2203e-02],\n",
       "         [ 1.2207e-01, -1.4760e-01],\n",
       "         [-4.9888e-02, -6.8524e-02],\n",
       "         ...,\n",
       "         [-6.1101e-02,  1.1791e-02],\n",
       "         [-1.9413e-02, -6.6556e-02],\n",
       "         [-1.3749e-01, -1.1046e-01]],\n",
       "\n",
       "        [[ 1.1107e-01,  6.2839e-02],\n",
       "         [-9.4187e-02, -7.7417e-02],\n",
       "         [ 5.4139e-02, -4.6835e-02],\n",
       "         ...,\n",
       "         [-1.3602e-02,  6.2018e-02],\n",
       "         [ 5.1028e-02, -4.6169e-03],\n",
       "         [-2.9332e-01,  7.6594e-02]]], grad_fn=<MulBackward0>)"
      ]
     },
     "execution_count": 37,
     "metadata": {},
     "output_type": "execute_result"
    }
   ],
   "source": [
    "snr=15\n",
    "snr = 10**(snr/10.0)\n",
    "Power = torch.sum(torch.sum(torch.square(x), dim=2),dim=1)/256\n",
    "npower = torch.sqrt(Power / snr)\n",
    "aa=torch.randn((len(a),len(a[0]),len(a[0,0,:])))\n",
    "bb=npower.unsqueeze(1).unsqueeze(1).repeat(1,256,2)\n",
    "aa.mul(bb)"
   ]
  },
  {
   "cell_type": "code",
   "execution_count": 51,
   "metadata": {},
   "outputs": [
    {
     "data": {
      "text/plain": [
       "tensor([0.2987, 0.2750, 0.3826, 0.2915, 0.2943, 0.3741, 0.3176, 0.4546, 0.3582,\n",
       "        0.3366, 0.4100, 0.3410, 0.2441, 0.4151, 0.3195, 0.2786, 0.3435, 0.2774,\n",
       "        0.3458, 0.4092, 0.2951, 0.4292, 0.3768, 0.3346, 0.3423, 0.2802, 0.3062,\n",
       "        0.3183, 0.3183, 0.3673, 0.2680, 0.2746, 0.3116, 0.3117, 0.2865, 0.4203,\n",
       "        0.3274, 0.2250, 0.3280, 0.4057, 0.3396, 0.3366, 0.3146, 0.3434, 0.3481,\n",
       "        0.3584, 0.3036, 0.3192, 0.4170, 0.2906, 0.3048, 0.3792, 0.2372, 0.3172,\n",
       "        0.3624, 0.3583, 0.2907, 0.2698, 0.3184, 0.3974, 0.4416, 0.3449, 0.4831,\n",
       "        0.2227, 0.3104, 0.2618, 0.3443, 0.3191, 0.3411, 0.3205, 0.2886, 0.3012,\n",
       "        0.3023, 0.3083, 0.3288, 0.4092, 0.2613, 0.4278, 0.2555, 0.2683, 0.3250,\n",
       "        0.2870, 0.2805, 0.2680, 0.3727, 0.2797, 0.3184, 0.3912, 0.3184, 0.2947,\n",
       "        0.3154, 0.3652, 0.3139, 0.3919, 0.2978, 0.2835, 0.3616, 0.2835, 0.2855,\n",
       "        0.3368], grad_fn=<DivBackward0>)"
      ]
     },
     "execution_count": 51,
     "metadata": {},
     "output_type": "execute_result"
    }
   ],
   "source": [
    "snr=5\n",
    "snr = 10**(snr/10.0)\n",
    "Power = torch.sum(torch.sum(torch.square(x), dim=2),dim=1)/256\n",
    "Power"
   ]
  },
  {
   "cell_type": "code",
   "execution_count": null,
   "metadata": {},
   "outputs": [],
   "source": []
  }
 ],
 "metadata": {
  "kernelspec": {
   "display_name": "Python 3",
   "language": "python",
   "name": "python3"
  },
  "language_info": {
   "codemirror_mode": {
    "name": "ipython",
    "version": 3
   },
   "file_extension": ".py",
   "mimetype": "text/x-python",
   "name": "python",
   "nbconvert_exporter": "python",
   "pygments_lexer": "ipython3",
   "version": "3.8.3"
  }
 },
 "nbformat": 4,
 "nbformat_minor": 4
}
